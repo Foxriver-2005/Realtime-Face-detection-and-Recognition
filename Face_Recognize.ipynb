{
 "cells": [
  {
   "cell_type": "code",
   "execution_count": null,
   "id": "b99e0507",
   "metadata": {},
   "outputs": [
    {
     "name": "stdout",
     "output_type": "stream",
     "text": [
      "Recognizing Face Please Be in Sufficient Lights...\n"
     ]
    },
    {
     "name": "stderr",
     "output_type": "stream",
     "text": [
      "Warning: QT_DEVICE_PIXEL_RATIO is deprecated. Instead use:\n",
      "   QT_AUTO_SCREEN_SCALE_FACTOR to enable platform plugin controlled per-screen factors.\n",
      "   QT_SCREEN_SCALE_FACTORS to set per-screen DPI.\n",
      "   QT_SCALE_FACTOR to set the application global scale factor.\n"
     ]
    }
   ],
   "source": [
    "import cv2,sys,numpy,os\n",
    "size = 4\n",
    "haar_file = 'haarcascade_frontalface_default.xml'\n",
    "datasets = 'datasets'\n",
    "\n",
    "print('Recognizing Face Please Be in Sufficient Lights...')\n",
    "\n",
    "(images,labels,names,id) = ([],[],{},0)\n",
    "for (subdirs,dirs,files) in os.walk(datasets):\n",
    "    for subdir in dirs:\n",
    "        names[id] = subdir\n",
    "        subjectpath = os.path.join(datasets,subdir)\n",
    "        for filename in os.listdir(subjectpath):\n",
    "            path = subjectpath + '/' + filename\n",
    "            label =  id\n",
    "            images.append(cv2.imread(path,0))\n",
    "            labels.append(int(label))\n",
    "        id += 1\n",
    "(width,height) =(130,100)\n",
    "\n",
    "(images,labels) = [numpy.array(lis) for lis in [images,labels]]\n",
    "\n",
    "model = cv2.face.LBPHFaceRecognizer_create()\n",
    "model.train(images,labels)\n",
    "\n",
    "face_cascade = cv2.CascadeClassifier(haar_file)\n",
    "webcam = cv2.VideoCapture(0)\n",
    "while True:\n",
    "    (_,im) = webcam.read()\n",
    "    gray = cv2.cvtColor(im,cv2.COLOR_BGR2GRAY)\n",
    "    faces = face_cascade.detectMultiScale(gray,1.3,5)\n",
    "    for (x,y,w,h) in faces:\n",
    "        cv2.rectangle(im,(x,y),(x+w,y+h),(255,0,0),2)\n",
    "        face = gray[y:y + h, x:x + w]\n",
    "        face_resize = cv2.resize(face,(width,height))\n",
    "        \n",
    "        prediction = model.predict(face_resize)\n",
    "        cv2.rectangle(im,(x,y),(x+w,y+h),(0,255,0),3)\n",
    "        \n",
    "        if prediction[1]<500:\n",
    "            cv2.putText(im,'%s - %.0f' %\n",
    "(names[prediction[0]],prediction[1]),(x-10,y-10),\n",
    "cv2.FONT_HERSHEY_PLAIN,1,(0,255,0))\n",
    "        else:\n",
    "                cv2.putText(im,'Not Recognized',\n",
    "                           (x-10,y-10),cv2.FONT_HERSHEY_PLAIN,1,(0,255,0))\n",
    "        cv2.imshow('OpenCV',im)\n",
    "        #key = cv2.waitKey(10)\n",
    "        if cv2.waitKey(33) == 27:\n",
    "            break\n",
    "video.release()\n",
    "cv2.destroyAllWindows()\n",
    "#END OF THE CODE"
   ]
  },
  {
   "cell_type": "code",
   "execution_count": null,
   "id": "7a6bd7af",
   "metadata": {},
   "outputs": [],
   "source": []
  },
  {
   "cell_type": "code",
   "execution_count": null,
   "id": "2389dae1",
   "metadata": {},
   "outputs": [],
   "source": []
  }
 ],
 "metadata": {
  "kernelspec": {
   "display_name": "Python 3 (ipykernel)",
   "language": "python",
   "name": "python3"
  },
  "language_info": {
   "codemirror_mode": {
    "name": "ipython",
    "version": 3
   },
   "file_extension": ".py",
   "mimetype": "text/x-python",
   "name": "python",
   "nbconvert_exporter": "python",
   "pygments_lexer": "ipython3",
   "version": "3.10.7"
  }
 },
 "nbformat": 4,
 "nbformat_minor": 5
}
